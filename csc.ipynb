{
 "cells": [
  {
   "cell_type": "code",
   "execution_count": 104,
   "metadata": {
    "collapsed": true,
    "pycharm": {
     "name": "#%%\n"
    }
   },
   "outputs": [
    {
     "data": {
      "text/plain": "'The Shawshan...,\\xa0\\n1994\\n'"
     },
     "execution_count": 104,
     "metadata": {},
     "output_type": "execute_result"
    }
   ],
   "source": [
    "import requests\n",
    "from bs4 import BeautifulSoup\n",
    "\n",
    "soup = BeautifulSoup(requests.get('https://www.film.ru/a-z/movies').text, 'lxml')\n",
    "data = []\n",
    "title = soup.find('div', class_='film_main_left').find('div', class_='film_list').find('strong').text\n",
    "link_russian = \"https://www.film.ru/\" + soup.find('div', class_='film_main_left').find('div', class_='film_list').find('a', class_='film_list_link').get('href')\n",
    "soup.find('div', class_='film_main_left').find('div', class_='film_list').find('a', class_='film_list_link').find('span').getText()"
   ]
  },
  {
   "cell_type": "code",
   "execution_count": 101,
   "outputs": [
    {
     "data": {
      "text/plain": "30"
     },
     "execution_count": 101,
     "metadata": {},
     "output_type": "execute_result"
    }
   ],
   "source": [
    "films = soup.findAll('div', class_='film_list')\n",
    "len(films)"
   ],
   "metadata": {
    "collapsed": false,
    "pycharm": {
     "name": "#%%\n"
    }
   }
  },
  {
   "cell_type": "code",
   "execution_count": 105,
   "outputs": [
    {
     "data": {
      "text/plain": "[['Побег из Шоушенка', 'https://www.film.ru//movies/pobeg-iz-shoushenka'],\n ['Криминальное чтиво', 'https://www.film.ru//movies/kriminalnoe-chtivo'],\n ['Молчание ягнят', 'https://www.film.ru//movies/molchanie-yagnyat'],\n ['Унесенные призраками', 'https://www.film.ru//movies/unesennye-prizrakami'],\n ['Назад в будущее', 'https://www.film.ru//movies/nazad-v-budushchee'],\n ['Леон', 'https://www.film.ru//movies/leon'],\n ['Принцесса Мононоке', 'https://www.film.ru//movies/princessa-mononoke'],\n ['Красота по-американски',\n  'https://www.film.ru//movies/krasota-po-amerikanski'],\n ['Вечное сияние чистого разума',\n  'https://www.film.ru//movies/vechnoe-siyanie-chistogo-razuma'],\n ['Унесенные ветром', 'https://www.film.ru//movies/unesennye-vetrom'],\n ['Мой сосед Тоторо', 'https://www.film.ru//movies/moy-sosed-totoro'],\n ['Фарго', 'https://www.film.ru//movies/fargo'],\n ['Бешеный бык', 'https://www.film.ru//movies/beshenyy-byk'],\n ['Звуки музыки', 'https://www.film.ru//movies/zvuki-muzyki'],\n ['Выживший', 'https://www.film.ru//movies/vozvraschenec'],\n ['Небесный замок Лапута',\n  'https://www.film.ru//movies/nebesnyy-zamok-laputa'],\n ['Чунгкингский экспресс',\n  'https://www.film.ru//movies/chungkingskiy-ekspress'],\n ['Любовь', 'https://www.film.ru//movies/lyubov-2'],\n ['Артист', 'https://www.film.ru//movies/artist'],\n ['Бесподобный мистер Фокс',\n  'https://www.film.ru//movies/bespodobnyy-mister-foks'],\n ['Шепот сердца', 'https://www.film.ru//movies/shepot-serdca'],\n ['Призрак в доспехах', 'https://www.film.ru//movies/prizrak-v-dospehah'],\n ['Симеон-пустынник', 'https://www.film.ru//movies/simeon-pustynnik'],\n ['Вся президентская рать',\n  'https://www.film.ru//movies/vsya-prezidentskaya-rat'],\n ['Ирландец', 'https://www.film.ru//movies/irlandec-1'],\n ['Манускрипт ниндзя', 'https://www.film.ru//movies/jube-ninpucho'],\n ['Все о моей матери', 'https://www.film.ru//movies/vse-o-moey-materi'],\n ['Крамер против Крамера',\n  'https://www.film.ru//movies/kramer-protiv-kramera'],\n ['Калина красная', 'https://www.film.ru//movies/kalina-krasnaya'],\n ['Великолепная семерка', 'https://www.film.ru//movies/velikolepnaya-semerka']]"
     },
     "execution_count": 105,
     "metadata": {},
     "output_type": "execute_result"
    }
   ],
   "source": [
    "for film in films:\n",
    "    link_russian = \"https://www.film.ru/\" + film.find('a', class_='film_list_link').get('href')\n",
    "    title = film.find('strong').text\n",
    "    data.append([title, link_russian])\n",
    "\n",
    "data\n"
   ],
   "metadata": {
    "collapsed": false,
    "pycharm": {
     "name": "#%%\n"
    }
   }
  },
  {
   "cell_type": "code",
   "execution_count": 98,
   "outputs": [],
   "source": [],
   "metadata": {
    "collapsed": false,
    "pycharm": {
     "name": "#%%\n"
    }
   }
  }
 ],
 "metadata": {
  "kernelspec": {
   "display_name": "Python 3",
   "language": "python",
   "name": "python3"
  },
  "language_info": {
   "codemirror_mode": {
    "name": "ipython",
    "version": 2
   },
   "file_extension": ".py",
   "mimetype": "text/x-python",
   "name": "python",
   "nbconvert_exporter": "python",
   "pygments_lexer": "ipython2",
   "version": "2.7.6"
  }
 },
 "nbformat": 4,
 "nbformat_minor": 0
}